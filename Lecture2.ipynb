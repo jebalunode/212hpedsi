{
 "cells": [
  {
   "cell_type": "code",
   "execution_count": null,
   "metadata": {},
   "outputs": [],
   "source": [
    "name = input('Enter your name: ')\n",
    "age = int(input('Enter your age: '))\n",
    "line = name + ', you will be ' + str(age+1) + ' next year!'\n",
    "print(line)\n"
   ]
  },
  {
   "cell_type": "code",
   "execution_count": null,
   "metadata": {},
   "outputs": [],
   "source": [
    "name = input('Enter your name: ')\n",
    "age = int(input('Enter your age: '))\n",
    "line = f'{name} , you will be  {age+1} next year!'\n",
    "print(line)"
   ]
  },
  {
   "cell_type": "code",
   "execution_count": null,
   "metadata": {},
   "outputs": [],
   "source": [
    "line1 = 'Hello Python developer...'\n",
    "line2 = 'Welcome to the world of Python!'\n",
    "print(line1)\n",
    "print(line2)"
   ]
  },
  {
   "cell_type": "markdown",
   "metadata": {},
   "source": [
    "#### eval"
   ]
  },
  {
   "cell_type": "code",
   "execution_count": null,
   "metadata": {},
   "outputs": [],
   "source": []
  },
  {
   "cell_type": "code",
   "execution_count": null,
   "metadata": {},
   "outputs": [],
   "source": [
    "first = input('Enter your first name: ')\n",
    "last = input('Enter your last name: ')\n",
    "line1 = 'Hello ' + first + ' ' + last + ' ...'\n",
    "print(line1)\n",
    "print('Welcome to the world of Python!')\n"
   ]
  },
  {
   "cell_type": "code",
   "execution_count": null,
   "metadata": {},
   "outputs": [],
   "source": [
    "age = input('Enter your age: \\n')\n",
    "type(age)\n",
    "print ( \"Last year, I was :\", eval(age) -1 )"
   ]
  },
  {
   "cell_type": "code",
   "execution_count": null,
   "metadata": {},
   "outputs": [],
   "source": [
    "age2 = float(age)\n",
    "type(age2)"
   ]
  },
  {
   "cell_type": "code",
   "execution_count": null,
   "metadata": {},
   "outputs": [],
   "source": [
    "age2 = eval(age)\n",
    "type(age2)"
   ]
  },
  {
   "cell_type": "code",
   "execution_count": null,
   "metadata": {},
   "outputs": [],
   "source": [
    "age='55.5'\n",
    "age2 = int(age)\n",
    "type(age2)"
   ]
  },
  {
   "cell_type": "code",
   "execution_count": null,
   "metadata": {},
   "outputs": [],
   "source": [
    "age='55.5'\n",
    "age2 = float(age)\n",
    "type(age2)"
   ]
  },
  {
   "cell_type": "markdown",
   "metadata": {},
   "source": [
    "## Rather than guessing use we could use bulit in eval()"
   ]
  },
  {
   "cell_type": "code",
   "execution_count": null,
   "metadata": {},
   "outputs": [],
   "source": [
    "age='55.5'\n",
    "age2 = eval(age)\n",
    "type(age2)"
   ]
  },
  {
   "cell_type": "code",
   "execution_count": null,
   "metadata": {},
   "outputs": [],
   "source": [
    "age='555'\n",
    "age2 = eval(age)\n",
    "type(age2)"
   ]
  },
  {
   "cell_type": "code",
   "execution_count": null,
   "metadata": {},
   "outputs": [],
   "source": [
    "eval('[2,4-5,3+5]')\n"
   ]
  },
  {
   "cell_type": "code",
   "execution_count": null,
   "metadata": {},
   "outputs": [],
   "source": [
    "value= eval ('3+0j')\n",
    "print (value)\n",
    "type (value)"
   ]
  },
  {
   "cell_type": "markdown",
   "metadata": {},
   "source": [
    "### Exercise\n",
    " \n",
    " Write a program that:\n",
    "<br> &emsp;Requests the user’s name\n",
    "<br> &emsp;Requests the user’s age\n",
    "<br> &emsp;Computes the user’s age one year from now and prints the message shown\n"
   ]
  },
  {
   "cell_type": "code",
   "execution_count": null,
   "metadata": {},
   "outputs": [],
   "source": [
    "first = input('Enter your first name: ')\n",
    "age  = eval( input('Enter your Age: '))\n",
    "line1 = first +    ' you will be ' + str(age+1) + ' next year!'\n",
    "print(line1)\n"
   ]
  },
  {
   "cell_type": "code",
   "execution_count": null,
   "metadata": {},
   "outputs": [],
   "source": []
  },
  {
   "cell_type": "code",
   "execution_count": null,
   "metadata": {},
   "outputs": [],
   "source": [
    "temp=89\n",
    "if temp > 86:\n",
    "    print('It is hot!')\n",
    "    print('Be sure to drink liquids.')\n",
    "    print('Goodbye.')\n"
   ]
  },
  {
   "cell_type": "code",
   "execution_count": null,
   "metadata": {},
   "outputs": [],
   "source": [
    "temp=69\n",
    "if temp > 86:\n",
    "    print('It is hot!')\n",
    "    print('Be sure to drink liquids.')\n",
    "    print('Goodbye.')"
   ]
  },
  {
   "cell_type": "code",
   "execution_count": null,
   "metadata": {},
   "outputs": [],
   "source": [
    "age = 45\n",
    "if age > 62:\n",
    "    print('You can get Social Security benefits')\n",
    "\n",
    " "
   ]
  },
  {
   "cell_type": "code",
   "execution_count": null,
   "metadata": {},
   "outputs": [],
   "source": [
    "age = 65\n",
    "if age > 62:\n",
    "    print('You can get Social Security benefits')"
   ]
  },
  {
   "cell_type": "code",
   "execution_count": null,
   "metadata": {},
   "outputs": [],
   "source": [
    "'la' in 'laa'"
   ]
  },
  {
   "cell_type": "code",
   "execution_count": null,
   "metadata": {},
   "outputs": [],
   "source": [
    "if 'la' in 'laa':\n",
    "    print ('la is a substring')"
   ]
  },
  {
   "cell_type": "code",
   "execution_count": null,
   "metadata": {},
   "outputs": [],
   "source": [
    "'p'  in 'aeiou'"
   ]
  },
  {
   "cell_type": "code",
   "execution_count": null,
   "metadata": {},
   "outputs": [],
   "source": [
    "9 in [1,3]"
   ]
  },
  {
   "cell_type": "code",
   "execution_count": null,
   "metadata": {},
   "outputs": [],
   "source": [
    "9 in [1,9,3]"
   ]
  },
  {
   "cell_type": "code",
   "execution_count": null,
   "metadata": {},
   "outputs": [],
   "source": [
    "report = 'no bonuses this year'\n",
    "if 'large bonuses' in report:\n",
    "    print('Vacation time!')\n"
   ]
  },
  {
   "cell_type": "code",
   "execution_count": null,
   "metadata": {},
   "outputs": [],
   "source": [
    "report = 'large bonuses this year'\n",
    "\n",
    "if 'large bonuses' in report:\n",
    "    print('Vacation time!')"
   ]
  },
  {
   "cell_type": "code",
   "execution_count": null,
   "metadata": {},
   "outputs": [],
   "source": [
    "temp =99\n",
    "greet= False\n",
    "if temp > 86:\n",
    "    print('It is hot!')\n",
    "    print('Drink liquids.')\n",
    "    if greet == True:\n",
    "        print('Goodbye.')\n"
   ]
  },
  {
   "cell_type": "code",
   "execution_count": null,
   "metadata": {},
   "outputs": [],
   "source": [
    "if temp > 86:\n",
    "    print('It is hot!')\n",
    "    print('Drink liquids.')\n",
    "print('Goodbye.')\n"
   ]
  },
  {
   "cell_type": "code",
   "execution_count": null,
   "metadata": {},
   "outputs": [],
   "source": [
    "hits=12\n",
    "shield=0\n",
    "\n",
    "print( hits, shield)"
   ]
  },
  {
   "cell_type": "code",
   "execution_count": null,
   "metadata": {},
   "outputs": [],
   "source": [
    "hits,shield=12,4\n",
    "\n",
    "print( hits, shield)"
   ]
  },
  {
   "cell_type": "code",
   "execution_count": null,
   "metadata": {},
   "outputs": [],
   "source": [
    "if temp > 86:\n",
    "    print('It is hot!')\n",
    "    print('Be sure to drink liquids.')\n",
    "else:\n",
    "    print('It is not hot.')\n",
    "    print('Bring a jacket.')\n",
    "print('Goodbye.')\n"
   ]
  },
  {
   "cell_type": "markdown",
   "metadata": {},
   "source": [
    "### Exercise\n",
    "Write a program that:\n",
    "<br> &emsp; Requests the user’s name\n",
    "<br> &emsp;  Requests the user’s age\n",
    "<br> &emsp;  Prints a message saying whether theuser is eligible to vote or not\n"
   ]
  },
  {
   "cell_type": "code",
   "execution_count": null,
   "metadata": {},
   "outputs": [],
   "source": []
  },
  {
   "cell_type": "code",
   "execution_count": null,
   "metadata": {},
   "outputs": [],
   "source": []
  },
  {
   "cell_type": "markdown",
   "metadata": {},
   "source": [
    "# Multi-way if statement\n"
   ]
  },
  {
   "cell_type": "code",
   "execution_count": null,
   "metadata": {},
   "outputs": [],
   "source": [
    "print('Letter Grades')\n",
    "score = float (input ('enter raw score\\n'))\n",
    "prefix='Your letter grade is'\n",
    "if score < 60:\n",
    "    print(prefix, 'F')\n",
    "elif 60 <= score < 70:\n",
    "    print(prefix, 'D')\n",
    "elif 70 <= score < 80:\n",
    "    print(prefix, 'C')\n",
    "elif 80 <= score < 90:\n",
    "    print(prefix, 'B')\n",
    "else:\n",
    "    print(prefix, 'A')\n",
    "print('Goodbye.')\n"
   ]
  },
  {
   "cell_type": "markdown",
   "metadata": {},
   "source": [
    "### For loops"
   ]
  },
  {
   "cell_type": "code",
   "execution_count": null,
   "metadata": {},
   "outputs": [],
   "source": [
    "name = 'Apple'\n",
    "for char in name:\n",
    "    print(char)\n",
    " "
   ]
  },
  {
   "cell_type": "code",
   "execution_count": null,
   "metadata": {},
   "outputs": [],
   "source": [
    "name = 'Apple'\n",
    "\n",
    "\n",
    "for char in ['Apple', 8, \"hello\"]:\n",
    "    print (char)"
   ]
  },
  {
   "cell_type": "code",
   "execution_count": null,
   "metadata": {},
   "outputs": [],
   "source": [
    "len(['Apple', 8, \"hello\"])"
   ]
  },
  {
   "cell_type": "code",
   "execution_count": null,
   "metadata": {},
   "outputs": [],
   "source": [
    "for word in ['stop', 'desktop', 'post', 'top']:\n",
    "    if 'top' in word:\n",
    "        print(word, end=\" \")\n",
    "print('Done.')\n"
   ]
  },
  {
   "cell_type": "code",
   "execution_count": null,
   "metadata": {},
   "outputs": [],
   "source": [
    "print ('stop', 'desktop', 'post', 'top', sep=\":\")"
   ]
  },
  {
   "cell_type": "code",
   "execution_count": null,
   "metadata": {},
   "outputs": [],
   "source": [
    "for  num  in [0,1,2,3,4,5]:\n",
    "    print(num)"
   ]
  },
  {
   "cell_type": "code",
   "execution_count": null,
   "metadata": {},
   "outputs": [],
   "source": [
    "for  num  in range(5+1):\n",
    "    print(num)"
   ]
  },
  {
   "cell_type": "code",
   "execution_count": null,
   "metadata": {},
   "outputs": [],
   "source": [
    "#0, 1, 2, 3, 4, 5, 6, 7, 8 , 9, 10\n",
    "\n",
    "for i in range(0,9,2):\n",
    "    if i==8:\n",
    "        print(i)\n",
    "    else:\n",
    "        print (i,\", \", sep='', end='')"
   ]
  },
  {
   "cell_type": "markdown",
   "metadata": {},
   "source": [
    "## While Loop\n",
    "- Example: compute the smallest multiple of 7 greater than 37.\n",
    "- Idea: generate multiples of 7 until we get a number greater than 37"
   ]
  },
  {
   "cell_type": "code",
   "execution_count": null,
   "metadata": {},
   "outputs": [],
   "source": [
    "i = 7\n",
    "while i <= 37:\n",
    "    i += 7\n",
    "    print (i)\n",
    "print('final value' , i)"
   ]
  },
  {
   "cell_type": "code",
   "execution_count": null,
   "metadata": {},
   "outputs": [],
   "source": []
  },
  {
   "cell_type": "markdown",
   "metadata": {},
   "source": [
    "## print() versus return\n"
   ]
  },
  {
   "cell_type": "code",
   "execution_count": null,
   "metadata": {},
   "outputs": [],
   "source": [
    "def f(x):\n",
    "    res = x**2 + 10\n",
    "    return res\n"
   ]
  },
  {
   "cell_type": "code",
   "execution_count": null,
   "metadata": {},
   "outputs": [],
   "source": [
    "\"Function returns value of res which can then be used in an expression\"\n",
    "c=2*f(2)\n",
    "print (c)"
   ]
  },
  {
   "cell_type": "code",
   "execution_count": null,
   "metadata": {},
   "outputs": [],
   "source": [
    "def f(x):\n",
    "    res = x**2 + 10\n",
    "    print(res)\n"
   ]
  },
  {
   "cell_type": "code",
   "execution_count": null,
   "metadata": {},
   "outputs": [],
   "source": [
    "\"Function prints value of res but does not return anything\"\n",
    "c=2*f(2)\n",
    "print (c)"
   ]
  },
  {
   "cell_type": "code",
   "execution_count": null,
   "metadata": {},
   "outputs": [],
   "source": [
    "type(print(9))"
   ]
  },
  {
   "cell_type": "markdown",
   "metadata": {},
   "source": [
    "####  Developing  a hypotenuse function hyp() that:\n",
    "- Takes two numbers as input (side lengths a and b of above right triangle ) \n",
    "- Returns the length of the hypotenuse c\n"
   ]
  },
  {
   "cell_type": "code",
   "execution_count": null,
   "metadata": {},
   "outputs": [],
   "source": [
    "from math import sqrt \n",
    "sqrt(25)"
   ]
  },
  {
   "cell_type": "code",
   "execution_count": null,
   "metadata": {},
   "outputs": [],
   "source": [
    "def hyp(a, b):\n",
    "    res = (a**2 + b**2)**0.5\n",
    "    return res"
   ]
  },
  {
   "cell_type": "code",
   "execution_count": null,
   "metadata": {},
   "outputs": [],
   "source": [
    "print (hyp(3,4))"
   ]
  },
  {
   "cell_type": "code",
   "execution_count": null,
   "metadata": {},
   "outputs": [],
   "source": [
    "import math\n",
    "def hyp2(a, b):\n",
    "    res = math.sqrt(a**2 + b**2)\n",
    "    return res\n",
    "print (hyp2(3,4))"
   ]
  },
  {
   "cell_type": "code",
   "execution_count": null,
   "metadata": {},
   "outputs": [],
   "source": [
    "dir(math)"
   ]
  },
  {
   "cell_type": "code",
   "execution_count": null,
   "metadata": {},
   "outputs": [],
   "source": [
    "from math import *\n",
    "def hyp2(a, b):\n",
    "    res =  sqrt(a**2 + b**2)\n",
    "    return res\n",
    "print (hyp2(3,4))"
   ]
  },
  {
   "cell_type": "code",
   "execution_count": null,
   "metadata": {},
   "outputs": [],
   "source": [
    "import math\n",
    "dir(math)"
   ]
  },
  {
   "cell_type": "code",
   "execution_count": null,
   "metadata": {},
   "outputs": [],
   "source": [
    "from math import pi\n",
    "def area(r):\n",
    "    return pi *r**2\n",
    "area(8.)"
   ]
  },
  {
   "cell_type": "code",
   "execution_count": null,
   "metadata": {},
   "outputs": [],
   "source": [
    "pi"
   ]
  },
  {
   "cell_type": "code",
   "execution_count": null,
   "metadata": {},
   "outputs": [],
   "source": [
    "import cmath\n",
    "def hyp2(a, b):\n",
    "    res =  cmath.sqrt(a**2 + b**2)\n",
    "    return res\n",
    "print (hyp2(3,4))"
   ]
  },
  {
   "cell_type": "code",
   "execution_count": null,
   "metadata": {},
   "outputs": [],
   "source": [
    "hyp2= lambda a,b : (a**2 + b**2)**.5"
   ]
  },
  {
   "cell_type": "code",
   "execution_count": null,
   "metadata": {},
   "outputs": [],
   "source": [
    "hyp2(3,4)"
   ]
  },
  {
   "cell_type": "markdown",
   "metadata": {},
   "source": [
    "### Write function hello() that:\n",
    "- takes a name (i.e., a string) as input\n",
    "- prints a personalized welcome message\n",
    "#### Note that the function does not return anything\n"
   ]
  },
  {
   "cell_type": "code",
   "execution_count": null,
   "metadata": {},
   "outputs": [],
   "source": [
    "def hello(name):\n",
    "    line = 'Welcome, ' + name + ', to the world of Python.'\n",
    "    print(line)\n",
    "\n",
    "    \n",
    "hello('Julie')"
   ]
  },
  {
   "cell_type": "code",
   "execution_count": null,
   "metadata": {},
   "outputs": [],
   "source": [
    "def hello2():\n",
    "    name = input(\"Enter name\\n\")\n",
    "    line = 'Welcome, ' + name + ', to the world of Python.'\n",
    "    print(line)\n",
    "    \n",
    "hello2()"
   ]
  },
  {
   "cell_type": "code",
   "execution_count": null,
   "metadata": {},
   "outputs": [],
   "source": [
    "hello3=lambda name,name2: print('Welcome, ' , name, name2+',','to the world of Python.')"
   ]
  },
  {
   "cell_type": "code",
   "execution_count": null,
   "metadata": {},
   "outputs": [],
   "source": [
    "hello3(\"Jerry\", \"Ebalunode\")"
   ]
  },
  {
   "cell_type": "code",
   "execution_count": null,
   "metadata": {},
   "outputs": [],
   "source": []
  },
  {
   "cell_type": "markdown",
   "metadata": {},
   "source": [
    "### Write function rng() that:\n",
    "- takes a list of numbers as input\n",
    "- returns the range of the numbers in the list\n",
    "#### The range is the difference between the largest and smallest number in the list\n"
   ]
  },
  {
   "cell_type": "code",
   "execution_count": null,
   "metadata": {},
   "outputs": [],
   "source": [
    "def rng(lst):\n",
    "    res = max(lst) - min(lst)\n",
    "    return res\n",
    "\n",
    "\n",
    "rng([4, 0, 1, -2])\n"
   ]
  },
  {
   "cell_type": "markdown",
   "metadata": {},
   "source": [
    "### Accumulator loop pattern\n",
    "- Accumulating something in every loop iteration\n",
    "- For example:     the sum of numbers in a list\n"
   ]
  },
  {
   "cell_type": "code",
   "execution_count": null,
   "metadata": {},
   "outputs": [],
   "source": [
    "lst = [3, 2, 7, 1, 9]  "
   ]
  },
  {
   "cell_type": "code",
   "execution_count": null,
   "metadata": {},
   "outputs": [],
   "source": [
    "result = 0  # initialize the accumulator.\n",
    "for i in lst:\n",
    "    result = result + i\n",
    "print (result)"
   ]
  },
  {
   "cell_type": "code",
   "execution_count": null,
   "metadata": {},
   "outputs": [],
   "source": [
    "result = 0  # initialize the accumulator.\n",
    "for i in lst:\n",
    "    result += i\n",
    "print (result)"
   ]
  },
  {
   "cell_type": "markdown",
   "metadata": {},
   "source": [
    "### Accumulator loop pattern for products\n",
    "- What if we wanted to obtain the product instead? What should res be initialized to?\n"
   ]
  },
  {
   "cell_type": "code",
   "execution_count": null,
   "metadata": {},
   "outputs": [],
   "source": [
    "lst = [3, 2, 7, 1, 9]\n",
    "res = 1                      # initialize the accumulator to 1\n",
    "for i in lst:\n",
    "    res =res * i\n",
    "print (res)"
   ]
  },
  {
   "cell_type": "code",
   "execution_count": null,
   "metadata": {},
   "outputs": [],
   "source": [
    "lst = [3, 2, 7, 1, 9]\n",
    "res = 1                      # initialize the accumulator to 1\n",
    "for num in lst:\n",
    "    res /= num\n",
    "print (res)"
   ]
  },
  {
   "cell_type": "markdown",
   "metadata": {},
   "source": [
    "#### Write function factorial() that:\n",
    "- takes a non-negative integer n as input\n",
    "- returns n!\n"
   ]
  },
  {
   "cell_type": "code",
   "execution_count": null,
   "metadata": {},
   "outputs": [],
   "source": [
    "def factorial(n):\n",
    "    'returns n! for input integer n'\n",
    "    res = 1\n",
    "    for i in range(1, n+1):\n",
    "        res *= i\n",
    "    return res\n",
    "\n",
    "\n",
    "\n",
    "print(factorial(10))\n"
   ]
  },
  {
   "cell_type": "code",
   "execution_count": null,
   "metadata": {},
   "outputs": [],
   "source": [
    "def factorial2(n):\n",
    "    'returns n! for input integer n'\n",
    "    res = 1\n",
    "    i=1\n",
    "    while i <n+1:\n",
    "        res *= i\n",
    "        i+=1\n",
    "    return res\n",
    "\n",
    "\n",
    "\n",
    "print(factorial2(4))"
   ]
  },
  {
   "cell_type": "code",
   "execution_count": null,
   "metadata": {},
   "outputs": [],
   "source": [
    " "
   ]
  },
  {
   "cell_type": "markdown",
   "metadata": {},
   "source": [
    "## Comments and docstrings\n",
    "### Python programs should be documented\n",
    "\n",
    "- So the developer who writes/maintains the code understands it\n",
    "- So the user knows what the program does\n"
   ]
  },
  {
   "cell_type": "markdown",
   "metadata": {},
   "source": [
    "#### Comments\n",
    "> def f(x): <br>\n",
    ">> res = x**2 + 10     # compute result<br>\n",
    ">> return res          # and return it\n"
   ]
  },
  {
   "cell_type": "markdown",
   "metadata": {},
   "source": [
    "####  Docstrings\n",
    "> def f(x):  <br>\n",
    ">>    'returns x****2 + 10' <br>\n",
    ">>  res = x**2 + 10     # compute result<br>\n",
    ">>  return res          # and return it\n"
   ]
  },
  {
   "cell_type": "code",
   "execution_count": null,
   "metadata": {},
   "outputs": [],
   "source": [
    "help(print)"
   ]
  },
  {
   "cell_type": "code",
   "execution_count": null,
   "metadata": {},
   "outputs": [],
   "source": [
    "def f(x):\n",
    "    res = x**2 + 10   # compute result\n",
    "    return res        # and return it\n"
   ]
  },
  {
   "cell_type": "code",
   "execution_count": null,
   "metadata": {},
   "outputs": [],
   "source": [
    "help(f)"
   ]
  },
  {
   "cell_type": "code",
   "execution_count": null,
   "metadata": {},
   "outputs": [],
   "source": [
    "def f2(x):\n",
    "    \"\"\"\n",
    "    a simple math function\n",
    "    returns x**2 + 10\n",
    "    \n",
    "    \"\"\" \n",
    "    res = x**2 + 10\n",
    "    return res"
   ]
  },
  {
   "cell_type": "code",
   "execution_count": null,
   "metadata": {},
   "outputs": [],
   "source": [
    "help(f2)"
   ]
  },
  {
   "cell_type": "code",
   "execution_count": null,
   "metadata": {},
   "outputs": [],
   "source": [
    "def factorial(n):\n",
    "    res = 1\n",
    "    for i in range(1,n+1):\n",
    "        res *=i\n",
    "    return res\n",
    "factorial(0)"
   ]
  },
  {
   "cell_type": "markdown",
   "metadata": {},
   "source": [
    "#### Write function negative() that:\n",
    "- takes a list of numbers as input\n",
    "- returns the index of the first negative number in the list or -1 if there is no negative number in the list\n"
   ]
  },
  {
   "cell_type": "code",
   "execution_count": null,
   "metadata": {},
   "outputs": [],
   "source": [
    "lst = [3, 1, -7, -4, 9, -2]\n",
    "for k in lst:\n",
    "    print (k)\n"
   ]
  },
  {
   "cell_type": "code",
   "execution_count": null,
   "metadata": {},
   "outputs": [],
   "source": [
    "lst = [3, 1, -7, -4, 9, -2]\n",
    "\n",
    "for k in  range(6):\n",
    "    print (k)"
   ]
  },
  {
   "cell_type": "code",
   "execution_count": null,
   "metadata": {},
   "outputs": [],
   "source": [
    "lst = [3, 1, -7, -4, 9, -2]\n",
    "for k in  range(6):\n",
    "    print ( lst[k])"
   ]
  },
  {
   "cell_type": "code",
   "execution_count": null,
   "metadata": {},
   "outputs": [],
   "source": [
    "lst = [3, 1, -7, -4, 9, -2]\n",
    "\n",
    "for k in  range(len(lst)):\n",
    "    print ( lst[k])"
   ]
  },
  {
   "cell_type": "code",
   "execution_count": null,
   "metadata": {},
   "outputs": [],
   "source": [
    "def negative(lst):\n",
    "    \"returns the index of the first negative number in the list or -1 if there is no negative number in the list\"\n",
    "    for i in range(len(lst)):\n",
    "        if lst[i] < 0:\n",
    "            return i\n",
    "\n",
    "    return -1"
   ]
  },
  {
   "cell_type": "code",
   "execution_count": null,
   "metadata": {},
   "outputs": [],
   "source": [
    "lst = [3, 1, -7, -4, 9, -2]\n",
    "negative(lst)\n"
   ]
  },
  {
   "cell_type": "code",
   "execution_count": null,
   "metadata": {},
   "outputs": [],
   "source": [
    "lst = [3, 1,  7,  9 ]\n",
    "negative(lst)"
   ]
  },
  {
   "cell_type": "markdown",
   "metadata": {},
   "source": [
    "### The break statement\n",
    "\n",
    "- is used inside the body of a loop\n",
    "- when executed, it interrupts the current iteration of the loop\n",
    "- execution continues with the statement that follows the loop body.\n"
   ]
  },
  {
   "cell_type": "code",
   "execution_count": null,
   "metadata": {},
   "outputs": [],
   "source": [
    "lst = [3, 1, -7, -4, 9, -2]\n",
    "def negative2(lst):\n",
    "    \"returns the index of the first negative number in the list or -1 if there is no negative number in the list\"\n",
    "    for i in range(len(lst)):\n",
    "        if lst[i] < 0:\n",
    "            print( i,lst[i] )\n",
    "            break\n",
    "negative2(lst)"
   ]
  },
  {
   "cell_type": "code",
   "execution_count": null,
   "metadata": {},
   "outputs": [],
   "source": [
    "lst = [3, 1, -7, -4, 9, -2]\n",
    "def make_postive(lst):\n",
    "    \"returns the index of the first negative number in the list or -1 if there is no negative number in the list\"\n",
    "    for i in range(len(lst)):\n",
    "        if lst[i] > 0:\n",
    "            continue\n",
    "        lst[i] *=-1\n",
    "    return lst\n",
    "        \n",
    "make_postive(lst)"
   ]
  },
  {
   "cell_type": "code",
   "execution_count": null,
   "metadata": {},
   "outputs": [],
   "source": [
    "print(range(9))"
   ]
  },
  {
   "cell_type": "code",
   "execution_count": null,
   "metadata": {},
   "outputs": [],
   "source": [
    "list(range(9))"
   ]
  },
  {
   "cell_type": "markdown",
   "metadata": {},
   "source": [
    "## Break statement\n",
    "+ used to terminate loop if a condition arises. For in instance find needle in haystack problem"
   ]
  },
  {
   "cell_type": "code",
   "execution_count": null,
   "metadata": {},
   "outputs": [],
   "source": [
    "## Break statement Example\n",
    "for letter in \"my_string\":\n",
    "    if letter == \"i\":\n",
    "        break\n",
    "    print (letter)"
   ]
  },
  {
   "cell_type": "code",
   "execution_count": null,
   "metadata": {},
   "outputs": [],
   "source": [
    "#More complex example of break statement  inside a function\n",
    "def cities3():\n",
    "    lst = []\n",
    "    while True:\n",
    "        city = input('Enter city: ')\n",
    "        if city == '':\n",
    "            break\n",
    "        lst.append(city)\n",
    "    return lst\n",
    "cities3()"
   ]
  },
  {
   "cell_type": "markdown",
   "metadata": {},
   "source": [
    "## Continue statement\n",
    "+ used to skip execution loop body statement if a condition arises. \n"
   ]
  },
  {
   "cell_type": "code",
   "execution_count": null,
   "metadata": {},
   "outputs": [],
   "source": [
    "## continue statement Example\n",
    "count =0\n",
    "for letter in \"my_string\":\n",
    "    if letter not  in  \"aeiou\":\n",
    "        continue\n",
    "    count+=1\n",
    "print(count, \" vowels found\")\n"
   ]
  },
  {
   "cell_type": "code",
   "execution_count": null,
   "metadata": {},
   "outputs": [],
   "source": [
    "## continue statement Example\n",
    "count =0\n",
    "for letter in \"my_string\":\n",
    "    if letter   in  \"aeiou\":\n",
    "        continue\n",
    "    count+=1\n",
    "print(count, ' consonant(s) found')"
   ]
  },
  {
   "cell_type": "markdown",
   "metadata": {},
   "source": [
    "### Exception Handling\n",
    "#### Gracefully handling error"
   ]
  },
  {
   "cell_type": "code",
   "execution_count": null,
   "metadata": {},
   "outputs": [],
   "source": [
    "while True:\n",
    "    try:\n",
    "        x = int(input(\"Please enter a number: \"))\n",
    "        break\n",
    "    except ValueError:\n",
    "        print(\"Oops!  That was no valid number.  Try again...\")\n"
   ]
  },
  {
   "cell_type": "code",
   "execution_count": null,
   "metadata": {},
   "outputs": [],
   "source": [
    "num = '123.4d'\n",
    "print (float(num)) ##this will trigger an error"
   ]
  },
  {
   "cell_type": "code",
   "execution_count": null,
   "metadata": {},
   "outputs": [],
   "source": [
    "num = '123.4d'\n",
    "try:\n",
    "    print (float(num))\n",
    "except  (ValueError, TypeError) as e :\n",
    "    print (e)\n",
    "    print ('DO SOMETHING ELSE HERE')"
   ]
  },
  {
   "cell_type": "code",
   "execution_count": null,
   "metadata": {},
   "outputs": [],
   "source": [
    "try:\n",
    "    area=3.142 * r **2\n",
    "    print (f\"Area of Circle of radius {r} == {area}\")\n",
    "except  (ValueError, TypeError, NameError) as e :\n",
    "    print (e)\n",
    "    print ('please correct the code')"
   ]
  },
  {
   "cell_type": "markdown",
   "metadata": {},
   "source": [
    "### Multiple Exceptions can be done as well"
   ]
  },
  {
   "cell_type": "code",
   "execution_count": null,
   "metadata": {},
   "outputs": [],
   "source": [
    "values = [1,2,3]\n",
    "try:\n",
    "    print (float(values))\n",
    "except ValueError:\n",
    "    print (\"nope\")\n",
    "except TypeError:\n",
    "    print (float(values[0]))"
   ]
  },
  {
   "cell_type": "code",
   "execution_count": null,
   "metadata": {},
   "outputs": [],
   "source": [
    "try:\n",
    "    print (float(\"454c\"))\n",
    "    print (float([1,2,3]))\n",
    "except:\n",
    "    print (\"error\")"
   ]
  }
 ],
 "metadata": {
  "kernelspec": {
   "display_name": "Python 3",
   "language": "python",
   "name": "python3"
  },
  "language_info": {
   "codemirror_mode": {
    "name": "ipython",
    "version": 3
   },
   "file_extension": ".py",
   "mimetype": "text/x-python",
   "name": "python",
   "nbconvert_exporter": "python",
   "pygments_lexer": "ipython3",
   "version": "3.6.9"
  }
 },
 "nbformat": 4,
 "nbformat_minor": 2
}
